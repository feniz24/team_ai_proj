{
 "cells": [
  {
   "cell_type": "code",
   "execution_count": 1,
   "id": "d653aa50",
   "metadata": {},
   "outputs": [],
   "source": [
    "import os\n",
    "import cv2\n",
    "import numpy as np\n",
    "from PIL import Image\n",
    "from tqdm import tqdm "
   ]
  },
  {
   "cell_type": "code",
   "execution_count": 2,
   "id": "6c005777",
   "metadata": {},
   "outputs": [],
   "source": [
    "def create_color_to_label_map(mask_folder_path):\n",
    "    \"\"\"\n",
    "    Scans all masks in a folder to find unique colors and create a mapping\n",
    "    from color to a class label.\n",
    "    \"\"\"\n",
    "    print(f\"Scanning masks in '{mask_folder_path}'...\")\n",
    "    \n",
    "    unique_colors = set()\n",
    "    \n",
    "\n",
    "    mask_files = os.listdir(mask_folder_path)\n",
    "    print(mask_files)\n",
    "   \n",
    "    for filename in tqdm(mask_files, desc=\"Finding unique colors\"):\n",
    "        mask_path = os.path.join(mask_folder_path, filename)\n",
    "        \n",
    "        # Open the mask image and convert to a NumPy array\n",
    "        mask_bgr = cv2.imread(mask_path)\n",
    "\n",
    "        mask_rgb = cv2.cvtColor(mask_bgr, cv2.COLOR_BGR2RGB)\n",
    "        # Reshape the (H, W, C) array to (H*W, C) to get a list of pixels\n",
    "        pixels = mask_rgb.reshape(-1, 3)\n",
    "        \n",
    "        # Get unique rows (unique RGB colors)\n",
    "        unique_pixel_colors = np.unique(pixels, axis=0)\n",
    "        \n",
    "        # Add the unique colors found in this image to our overall set\n",
    "        for color in unique_pixel_colors:\n",
    "            unique_colors.add(tuple(color))\n",
    "            \n",
    "\n",
    "    sorted_colors = sorted(list(unique_colors))\n",
    "    \n",
    "    # Create the color-to-label dictionary\n",
    "    color_to_label = {color: label for label, color in enumerate(sorted_colors)}\n",
    "    \n",
    "    print(\"\\nScan complete!\")\n",
    "    print(f\"Found {len(color_to_label)} unique classes.\")\n",
    "    \n",
    "    return color_to_label"
   ]
  },
  {
   "cell_type": "code",
   "execution_count": 3,
   "id": "43d05afc",
   "metadata": {},
   "outputs": [
    {
     "name": "stdout",
     "output_type": "stream",
     "text": [
      "Scanning masks in 'dataset\\annotated_images'...\n",
      "['cat.0.png', 'cat.1.png', 'cat.10.png', 'cat.100.png', 'cat.101.png', 'cat.108.png', 'cat.11.png', 'cat.12.png', 'cat.126.png', 'cat.13.png', 'cat.14.png', 'cat.15.png', 'cat.152.png', 'cat.16.png', 'cat.17.png', 'cat.175.png', 'cat.18.png', 'cat.182.png', 'cat.19.png', 'cat.2.png', 'cat.20.png', 'cat.2042.png', 'cat.21.png', 'cat.2116.png', 'cat.22.png', 'cat.23.png', 'cat.237.png', 'cat.2390.png', 'cat.24.png', 'cat.2407.png', 'cat.2417.png', 'cat.2429.png', 'cat.2461.png', 'cat.2469.png', 'cat.2485.png', 'cat.25.png', 'cat.26.png', 'cat.266.png', 'cat.27.png', 'cat.28.png', 'cat.29.png', 'cat.3.png', 'cat.30.png', 'cat.31.png', 'cat.32.png', 'cat.326.png', 'cat.328.png', 'cat.33.png', 'cat.34.png', 'cat.35.png', 'cat.36.png', 'cat.37.png', 'cat.38.png', 'cat.39.png', 'cat.4.png', 'cat.40.png', 'cat.41.png', 'cat.42.png', 'cat.427.png', 'cat.43.png', 'cat.44.png', 'cat.45.png', 'cat.46.png', 'cat.47.png', 'cat.471.png', 'cat.48.png', 'cat.49.png', 'cat.5.png', 'cat.50.png', 'cat.502.png', 'cat.51.png', 'cat.52.png', 'cat.528.png', 'cat.53.png', 'cat.536.png', 'cat.538.png', 'cat.54.png', 'cat.55.png', 'cat.56.png', 'cat.57.png', 'cat.58.png', 'cat.59.png', 'cat.6.png', 'cat.60.png', 'cat.61.png', 'cat.62.png', 'cat.63.png', 'cat.64.png', 'cat.65.png', 'cat.66.png', 'cat.67.png', 'cat.68.png', 'cat.69.png', 'cat.7.png', 'cat.70.png', 'cat.71.png', 'cat.712.png', 'cat.72.png', 'cat.73.png', 'cat.74.png', 'cat.75.png', 'cat.76.png', 'cat.77.png', 'cat.78.png', 'cat.79.png', 'cat.792.png', 'cat.8.png', 'cat.80.png', 'cat.81.png', 'cat.82.png', 'cat.83.png', 'cat.84.png', 'cat.848.png', 'cat.85.png', 'cat.86.png', 'cat.87.png', 'cat.88.png', 'cat.89.png', 'cat.9.png', 'cat.90.png', 'cat.907.png', 'cat.91.png', 'cat.916.png', 'cat.92.png', 'cat.93.png', 'cat.94.png', 'cat.95.png', 'cat.96.png', 'cat.960.png', 'cat.97.png', 'cat.98.png', 'cat.99.png', 'dog.0.png', 'dog.1.png', 'dog.10.png', 'dog.100.png', 'dog.11.png', 'dog.12.png', 'dog.13.png', 'dog.14.png', 'dog.15.png', 'dog.153.png', 'dog.16.png', 'dog.17.png', 'dog.174.png', 'dog.18.png', 'dog.180.png', 'dog.188.png', 'dog.189.png', 'dog.19.png', 'dog.2.png', 'dog.20.png', 'dog.21.png', 'dog.2171.png', 'dog.22.png', 'dog.2295.png', 'dog.23.png', 'dog.2307.png', 'dog.2337.png', 'dog.2396.png', 'dog.24.png', 'dog.2414.png', 'dog.2488.png', 'dog.25.png', 'dog.26.png', 'dog.269.png', 'dog.27.png', 'dog.28.png', 'dog.29.png', 'dog.3.png', 'dog.30.png', 'dog.31.png', 'dog.32.png', 'dog.33.png', 'dog.331.png', 'dog.34.png', 'dog.340.png', 'dog.35.png', 'dog.36.png', 'dog.37.png', 'dog.38.png', 'dog.39.png', 'dog.4.png', 'dog.40.png', 'dog.41.png', 'dog.42.png', 'dog.43.png', 'dog.44.png', 'dog.45.png', 'dog.46.png', 'dog.460.png', 'dog.47.png', 'dog.48.png', 'dog.49.png', 'dog.5.png', 'dog.50.png', 'dog.500.png', 'dog.51.png', 'dog.52.png', 'dog.53.png', 'dog.54.png', 'dog.55.png', 'dog.56.png', 'dog.57.png', 'dog.58.png', 'dog.59.png', 'dog.6.png', 'dog.60.png', 'dog.61.png', 'dog.62.png', 'dog.63.png', 'dog.64.png', 'dog.644.png', 'dog.65.png', 'dog.66.png', 'dog.67.png', 'dog.68.png', 'dog.69.png', 'dog.7.png', 'dog.70.png', 'dog.71.png', 'dog.72.png', 'dog.73.png', 'dog.74.png', 'dog.740.png', 'dog.75.png', 'dog.76.png', 'dog.77.png', 'dog.78.png', 'dog.79.png', 'dog.8.png', 'dog.80.png', 'dog.81.png', 'dog.82.png', 'dog.821.png', 'dog.83.png', 'dog.84.png', 'dog.85.png', 'dog.86.png', 'dog.87.png', 'dog.88.png', 'dog.89.png', 'dog.9.png', 'dog.90.png', 'dog.91.png', 'dog.910.png', 'dog.92.png', 'dog.93.png', 'dog.94.png', 'dog.95.png', 'dog.96.png', 'dog.97.png', 'dog.973.png', 'dog.98.png', 'dog.99.png']\n"
     ]
    },
    {
     "name": "stderr",
     "output_type": "stream",
     "text": [
      "Finding unique colors: 100%|██████████| 255/255 [00:23<00:00, 10.73it/s]"
     ]
    },
    {
     "name": "stdout",
     "output_type": "stream",
     "text": [
      "\n",
      "Scan complete!\n",
      "Found 3 unique classes.\n"
     ]
    },
    {
     "name": "stderr",
     "output_type": "stream",
     "text": [
      "\n"
     ]
    },
    {
     "data": {
      "text/plain": [
       "{(np.uint8(0), np.uint8(0), np.uint8(0)): 0,\n",
       " (np.uint8(0), np.uint8(128), np.uint8(0)): 1,\n",
       " (np.uint8(128), np.uint8(0), np.uint8(0)): 2}"
      ]
     },
     "execution_count": 3,
     "metadata": {},
     "output_type": "execute_result"
    }
   ],
   "source": [
    "mask_path = \"dataset\\\\annotated_images\"\n",
    "COLOR_TO_LABEL = create_color_to_label_map(mask_path)\n",
    "COLOR_TO_LABEL"
   ]
  },
  {
   "cell_type": "code",
   "execution_count": 4,
   "id": "765d9d87",
   "metadata": {},
   "outputs": [],
   "source": [
    "import numpy as np\n",
    "import cv2\n",
    "from PIL import Image\n",
    "\n",
    "def encode_mask_to_grayscale(mask_path, color_map):\n",
    "    \"\"\"\n",
    "    Converts an RGB segmentation mask to a grayscale mask with class labels.\n",
    "    \"\"\"\n",
    "    mask_bgr = cv2.imread(mask_path)\n",
    "    mask_rgb = cv2.cvtColor(mask_bgr, cv2.COLOR_BGR2RGB)\n",
    "    height, width, _ = mask_rgb.shape\n",
    "    \n",
    "    # Create an empty grayscale mask (height x width)\n",
    "    mask_grayscale = np.zeros((height, width), dtype=np.uint8)\n",
    "    \n",
    "    # For each color in our map, find where it is in the mask and assign the label\n",
    "    for color, label in color_map.items():\n",
    "        # Find pixels matching the color\n",
    "        matches = np.where(np.all(mask_rgb == color, axis=-1))\n",
    "        mask_grayscale[matches] = label\n",
    "        \n",
    "    return mask_grayscale"
   ]
  },
  {
   "cell_type": "code",
   "execution_count": 5,
   "id": "4318d72f",
   "metadata": {},
   "outputs": [],
   "source": [
    "mask_path = \"dataset\\\\annotated_images\\\\cat.26.png\" \n",
    "grayscale_label_mask = encode_mask_to_grayscale(mask_path, COLOR_TO_LABEL)"
   ]
  },
  {
   "cell_type": "code",
   "execution_count": 6,
   "id": "53398180",
   "metadata": {},
   "outputs": [
    {
     "name": "stdout",
     "output_type": "stream",
     "text": [
      "['dataset\\\\annotated_images\\\\cat.0.png', 'dataset\\\\annotated_images\\\\cat.1.png', 'dataset\\\\annotated_images\\\\cat.10.png', 'dataset\\\\annotated_images\\\\cat.100.png', 'dataset\\\\annotated_images\\\\cat.101.png', 'dataset\\\\annotated_images\\\\cat.108.png', 'dataset\\\\annotated_images\\\\cat.11.png', 'dataset\\\\annotated_images\\\\cat.12.png', 'dataset\\\\annotated_images\\\\cat.126.png', 'dataset\\\\annotated_images\\\\cat.13.png', 'dataset\\\\annotated_images\\\\cat.14.png', 'dataset\\\\annotated_images\\\\cat.15.png', 'dataset\\\\annotated_images\\\\cat.152.png', 'dataset\\\\annotated_images\\\\cat.16.png', 'dataset\\\\annotated_images\\\\cat.17.png', 'dataset\\\\annotated_images\\\\cat.175.png', 'dataset\\\\annotated_images\\\\cat.18.png', 'dataset\\\\annotated_images\\\\cat.182.png', 'dataset\\\\annotated_images\\\\cat.19.png', 'dataset\\\\annotated_images\\\\cat.2.png', 'dataset\\\\annotated_images\\\\cat.20.png', 'dataset\\\\annotated_images\\\\cat.2042.png', 'dataset\\\\annotated_images\\\\cat.21.png', 'dataset\\\\annotated_images\\\\cat.2116.png', 'dataset\\\\annotated_images\\\\cat.22.png', 'dataset\\\\annotated_images\\\\cat.23.png', 'dataset\\\\annotated_images\\\\cat.237.png', 'dataset\\\\annotated_images\\\\cat.2390.png', 'dataset\\\\annotated_images\\\\cat.24.png', 'dataset\\\\annotated_images\\\\cat.2407.png', 'dataset\\\\annotated_images\\\\cat.2417.png', 'dataset\\\\annotated_images\\\\cat.2429.png', 'dataset\\\\annotated_images\\\\cat.2461.png', 'dataset\\\\annotated_images\\\\cat.2469.png', 'dataset\\\\annotated_images\\\\cat.2485.png', 'dataset\\\\annotated_images\\\\cat.25.png', 'dataset\\\\annotated_images\\\\cat.26.png', 'dataset\\\\annotated_images\\\\cat.266.png', 'dataset\\\\annotated_images\\\\cat.27.png', 'dataset\\\\annotated_images\\\\cat.28.png', 'dataset\\\\annotated_images\\\\cat.29.png', 'dataset\\\\annotated_images\\\\cat.3.png', 'dataset\\\\annotated_images\\\\cat.30.png', 'dataset\\\\annotated_images\\\\cat.31.png', 'dataset\\\\annotated_images\\\\cat.32.png', 'dataset\\\\annotated_images\\\\cat.326.png', 'dataset\\\\annotated_images\\\\cat.328.png', 'dataset\\\\annotated_images\\\\cat.33.png', 'dataset\\\\annotated_images\\\\cat.34.png', 'dataset\\\\annotated_images\\\\cat.35.png', 'dataset\\\\annotated_images\\\\cat.36.png', 'dataset\\\\annotated_images\\\\cat.37.png', 'dataset\\\\annotated_images\\\\cat.38.png', 'dataset\\\\annotated_images\\\\cat.39.png', 'dataset\\\\annotated_images\\\\cat.4.png', 'dataset\\\\annotated_images\\\\cat.40.png', 'dataset\\\\annotated_images\\\\cat.41.png', 'dataset\\\\annotated_images\\\\cat.42.png', 'dataset\\\\annotated_images\\\\cat.427.png', 'dataset\\\\annotated_images\\\\cat.43.png', 'dataset\\\\annotated_images\\\\cat.44.png', 'dataset\\\\annotated_images\\\\cat.45.png', 'dataset\\\\annotated_images\\\\cat.46.png', 'dataset\\\\annotated_images\\\\cat.47.png', 'dataset\\\\annotated_images\\\\cat.471.png', 'dataset\\\\annotated_images\\\\cat.48.png', 'dataset\\\\annotated_images\\\\cat.49.png', 'dataset\\\\annotated_images\\\\cat.5.png', 'dataset\\\\annotated_images\\\\cat.50.png', 'dataset\\\\annotated_images\\\\cat.502.png', 'dataset\\\\annotated_images\\\\cat.51.png', 'dataset\\\\annotated_images\\\\cat.52.png', 'dataset\\\\annotated_images\\\\cat.528.png', 'dataset\\\\annotated_images\\\\cat.53.png', 'dataset\\\\annotated_images\\\\cat.536.png', 'dataset\\\\annotated_images\\\\cat.538.png', 'dataset\\\\annotated_images\\\\cat.54.png', 'dataset\\\\annotated_images\\\\cat.55.png', 'dataset\\\\annotated_images\\\\cat.56.png', 'dataset\\\\annotated_images\\\\cat.57.png', 'dataset\\\\annotated_images\\\\cat.58.png', 'dataset\\\\annotated_images\\\\cat.59.png', 'dataset\\\\annotated_images\\\\cat.6.png', 'dataset\\\\annotated_images\\\\cat.60.png', 'dataset\\\\annotated_images\\\\cat.61.png', 'dataset\\\\annotated_images\\\\cat.62.png', 'dataset\\\\annotated_images\\\\cat.63.png', 'dataset\\\\annotated_images\\\\cat.64.png', 'dataset\\\\annotated_images\\\\cat.65.png', 'dataset\\\\annotated_images\\\\cat.66.png', 'dataset\\\\annotated_images\\\\cat.67.png', 'dataset\\\\annotated_images\\\\cat.68.png', 'dataset\\\\annotated_images\\\\cat.69.png', 'dataset\\\\annotated_images\\\\cat.7.png', 'dataset\\\\annotated_images\\\\cat.70.png', 'dataset\\\\annotated_images\\\\cat.71.png', 'dataset\\\\annotated_images\\\\cat.712.png', 'dataset\\\\annotated_images\\\\cat.72.png', 'dataset\\\\annotated_images\\\\cat.73.png', 'dataset\\\\annotated_images\\\\cat.74.png', 'dataset\\\\annotated_images\\\\cat.75.png', 'dataset\\\\annotated_images\\\\cat.76.png', 'dataset\\\\annotated_images\\\\cat.77.png', 'dataset\\\\annotated_images\\\\cat.78.png', 'dataset\\\\annotated_images\\\\cat.79.png', 'dataset\\\\annotated_images\\\\cat.792.png', 'dataset\\\\annotated_images\\\\cat.8.png', 'dataset\\\\annotated_images\\\\cat.80.png', 'dataset\\\\annotated_images\\\\cat.81.png', 'dataset\\\\annotated_images\\\\cat.82.png', 'dataset\\\\annotated_images\\\\cat.83.png', 'dataset\\\\annotated_images\\\\cat.84.png', 'dataset\\\\annotated_images\\\\cat.848.png', 'dataset\\\\annotated_images\\\\cat.85.png', 'dataset\\\\annotated_images\\\\cat.86.png', 'dataset\\\\annotated_images\\\\cat.87.png', 'dataset\\\\annotated_images\\\\cat.88.png', 'dataset\\\\annotated_images\\\\cat.89.png', 'dataset\\\\annotated_images\\\\cat.9.png', 'dataset\\\\annotated_images\\\\cat.90.png', 'dataset\\\\annotated_images\\\\cat.907.png', 'dataset\\\\annotated_images\\\\cat.91.png', 'dataset\\\\annotated_images\\\\cat.916.png', 'dataset\\\\annotated_images\\\\cat.92.png', 'dataset\\\\annotated_images\\\\cat.93.png', 'dataset\\\\annotated_images\\\\cat.94.png', 'dataset\\\\annotated_images\\\\cat.95.png', 'dataset\\\\annotated_images\\\\cat.96.png', 'dataset\\\\annotated_images\\\\cat.960.png', 'dataset\\\\annotated_images\\\\cat.97.png', 'dataset\\\\annotated_images\\\\cat.98.png', 'dataset\\\\annotated_images\\\\cat.99.png', 'dataset\\\\annotated_images\\\\dog.0.png', 'dataset\\\\annotated_images\\\\dog.1.png', 'dataset\\\\annotated_images\\\\dog.10.png', 'dataset\\\\annotated_images\\\\dog.100.png', 'dataset\\\\annotated_images\\\\dog.11.png', 'dataset\\\\annotated_images\\\\dog.12.png', 'dataset\\\\annotated_images\\\\dog.13.png', 'dataset\\\\annotated_images\\\\dog.14.png', 'dataset\\\\annotated_images\\\\dog.15.png', 'dataset\\\\annotated_images\\\\dog.153.png', 'dataset\\\\annotated_images\\\\dog.16.png', 'dataset\\\\annotated_images\\\\dog.17.png', 'dataset\\\\annotated_images\\\\dog.174.png', 'dataset\\\\annotated_images\\\\dog.18.png', 'dataset\\\\annotated_images\\\\dog.180.png', 'dataset\\\\annotated_images\\\\dog.188.png', 'dataset\\\\annotated_images\\\\dog.189.png', 'dataset\\\\annotated_images\\\\dog.19.png', 'dataset\\\\annotated_images\\\\dog.2.png', 'dataset\\\\annotated_images\\\\dog.20.png', 'dataset\\\\annotated_images\\\\dog.21.png', 'dataset\\\\annotated_images\\\\dog.2171.png', 'dataset\\\\annotated_images\\\\dog.22.png', 'dataset\\\\annotated_images\\\\dog.2295.png', 'dataset\\\\annotated_images\\\\dog.23.png', 'dataset\\\\annotated_images\\\\dog.2307.png', 'dataset\\\\annotated_images\\\\dog.2337.png', 'dataset\\\\annotated_images\\\\dog.2396.png', 'dataset\\\\annotated_images\\\\dog.24.png', 'dataset\\\\annotated_images\\\\dog.2414.png', 'dataset\\\\annotated_images\\\\dog.2488.png', 'dataset\\\\annotated_images\\\\dog.25.png', 'dataset\\\\annotated_images\\\\dog.26.png', 'dataset\\\\annotated_images\\\\dog.269.png', 'dataset\\\\annotated_images\\\\dog.27.png', 'dataset\\\\annotated_images\\\\dog.28.png', 'dataset\\\\annotated_images\\\\dog.29.png', 'dataset\\\\annotated_images\\\\dog.3.png', 'dataset\\\\annotated_images\\\\dog.30.png', 'dataset\\\\annotated_images\\\\dog.31.png', 'dataset\\\\annotated_images\\\\dog.32.png', 'dataset\\\\annotated_images\\\\dog.33.png', 'dataset\\\\annotated_images\\\\dog.331.png', 'dataset\\\\annotated_images\\\\dog.34.png', 'dataset\\\\annotated_images\\\\dog.340.png', 'dataset\\\\annotated_images\\\\dog.35.png', 'dataset\\\\annotated_images\\\\dog.36.png', 'dataset\\\\annotated_images\\\\dog.37.png', 'dataset\\\\annotated_images\\\\dog.38.png', 'dataset\\\\annotated_images\\\\dog.39.png', 'dataset\\\\annotated_images\\\\dog.4.png', 'dataset\\\\annotated_images\\\\dog.40.png', 'dataset\\\\annotated_images\\\\dog.41.png', 'dataset\\\\annotated_images\\\\dog.42.png', 'dataset\\\\annotated_images\\\\dog.43.png', 'dataset\\\\annotated_images\\\\dog.44.png', 'dataset\\\\annotated_images\\\\dog.45.png', 'dataset\\\\annotated_images\\\\dog.46.png', 'dataset\\\\annotated_images\\\\dog.460.png', 'dataset\\\\annotated_images\\\\dog.47.png', 'dataset\\\\annotated_images\\\\dog.48.png', 'dataset\\\\annotated_images\\\\dog.49.png', 'dataset\\\\annotated_images\\\\dog.5.png', 'dataset\\\\annotated_images\\\\dog.50.png', 'dataset\\\\annotated_images\\\\dog.500.png', 'dataset\\\\annotated_images\\\\dog.51.png', 'dataset\\\\annotated_images\\\\dog.52.png', 'dataset\\\\annotated_images\\\\dog.53.png', 'dataset\\\\annotated_images\\\\dog.54.png', 'dataset\\\\annotated_images\\\\dog.55.png', 'dataset\\\\annotated_images\\\\dog.56.png', 'dataset\\\\annotated_images\\\\dog.57.png', 'dataset\\\\annotated_images\\\\dog.58.png', 'dataset\\\\annotated_images\\\\dog.59.png', 'dataset\\\\annotated_images\\\\dog.6.png', 'dataset\\\\annotated_images\\\\dog.60.png', 'dataset\\\\annotated_images\\\\dog.61.png', 'dataset\\\\annotated_images\\\\dog.62.png', 'dataset\\\\annotated_images\\\\dog.63.png', 'dataset\\\\annotated_images\\\\dog.64.png', 'dataset\\\\annotated_images\\\\dog.644.png', 'dataset\\\\annotated_images\\\\dog.65.png', 'dataset\\\\annotated_images\\\\dog.66.png', 'dataset\\\\annotated_images\\\\dog.67.png', 'dataset\\\\annotated_images\\\\dog.68.png', 'dataset\\\\annotated_images\\\\dog.69.png', 'dataset\\\\annotated_images\\\\dog.7.png', 'dataset\\\\annotated_images\\\\dog.70.png', 'dataset\\\\annotated_images\\\\dog.71.png', 'dataset\\\\annotated_images\\\\dog.72.png', 'dataset\\\\annotated_images\\\\dog.73.png', 'dataset\\\\annotated_images\\\\dog.74.png', 'dataset\\\\annotated_images\\\\dog.740.png', 'dataset\\\\annotated_images\\\\dog.75.png', 'dataset\\\\annotated_images\\\\dog.76.png', 'dataset\\\\annotated_images\\\\dog.77.png', 'dataset\\\\annotated_images\\\\dog.78.png', 'dataset\\\\annotated_images\\\\dog.79.png', 'dataset\\\\annotated_images\\\\dog.8.png', 'dataset\\\\annotated_images\\\\dog.80.png', 'dataset\\\\annotated_images\\\\dog.81.png', 'dataset\\\\annotated_images\\\\dog.82.png', 'dataset\\\\annotated_images\\\\dog.821.png', 'dataset\\\\annotated_images\\\\dog.83.png', 'dataset\\\\annotated_images\\\\dog.84.png', 'dataset\\\\annotated_images\\\\dog.85.png', 'dataset\\\\annotated_images\\\\dog.86.png', 'dataset\\\\annotated_images\\\\dog.87.png', 'dataset\\\\annotated_images\\\\dog.88.png', 'dataset\\\\annotated_images\\\\dog.89.png', 'dataset\\\\annotated_images\\\\dog.9.png', 'dataset\\\\annotated_images\\\\dog.90.png', 'dataset\\\\annotated_images\\\\dog.91.png', 'dataset\\\\annotated_images\\\\dog.910.png', 'dataset\\\\annotated_images\\\\dog.92.png', 'dataset\\\\annotated_images\\\\dog.93.png', 'dataset\\\\annotated_images\\\\dog.94.png', 'dataset\\\\annotated_images\\\\dog.95.png', 'dataset\\\\annotated_images\\\\dog.96.png', 'dataset\\\\annotated_images\\\\dog.97.png', 'dataset\\\\annotated_images\\\\dog.973.png', 'dataset\\\\annotated_images\\\\dog.98.png', 'dataset\\\\annotated_images\\\\dog.99.png']\n"
     ]
    }
   ],
   "source": [
    "from glob import glob\n",
    "\n",
    "mask_files = glob(os.path.join(\"dataset\", \"annotated_images\", \"*.*\"))\n",
    "print(mask_files)"
   ]
  },
  {
   "cell_type": "code",
   "execution_count": null,
   "id": "f2040848",
   "metadata": {},
   "outputs": [],
   "source": [
    "import matplotlib.pyplot as plt\n",
    "for mask_path in mask_files:\n",
    "    grayscale_label_mask = encode_mask_to_grayscale(mask_path, COLOR_TO_LABEL)\n",
    "    save_path = os.path.join(\"dataset\", \"encoded_images\", os.path.basename(mask_path))\n",
    "    cv2.imwrite(save_path, grayscale_label_mask)"
   ]
  },
  {
   "cell_type": "markdown",
   "id": "752278bf",
   "metadata": {},
   "source": [
    "### Reread the encoded mask"
   ]
  },
  {
   "cell_type": "code",
   "execution_count": 8,
   "id": "4d1bec02",
   "metadata": {},
   "outputs": [
    {
     "data": {
      "text/plain": [
       "<matplotlib.image.AxesImage at 0x1b860555600>"
      ]
     },
     "execution_count": 8,
     "metadata": {},
     "output_type": "execute_result"
    },
    {
     "data": {
      "image/png": "[encoded data removed]",
      "text/plain": [
       "<Figure size 640x480 with 1 Axes>"
      ]
     },
     "metadata": {},
     "output_type": "display_data"
    }
   ],
   "source": [
    "new_grayscale_label_mask = cv2.imread(\"dataset\\\\encoded_images\\\\cat.25.png\")\n",
    "new_grayscale_label_mask = cv2.cvtColor(new_grayscale_label_mask, cv2.COLOR_BGR2GRAY)\n",
    "plt.imshow(new_grayscale_label_mask)"
   ]
  }
 ],
 "metadata": {
  "kernelspec": {
   "display_name": "conda_wai",
   "language": "python",
   "name": "python3"
  },
  "language_info": {
   "codemirror_mode": {
    "name": "ipython",
    "version": 3
   },
   "file_extension": ".py",
   "mimetype": "text/x-python",
   "name": "python",
   "nbconvert_exporter": "python",
   "pygments_lexer": "ipython3",
   "version": "3.10.18"
  }
 },
 "nbformat": 4,
 "nbformat_minor": 5
}
